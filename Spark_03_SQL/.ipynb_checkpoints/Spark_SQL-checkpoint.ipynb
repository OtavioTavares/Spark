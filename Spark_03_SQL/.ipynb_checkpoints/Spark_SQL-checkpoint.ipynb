{
 "cells": [
  {
   "cell_type": "markdown",
   "metadata": {},
   "source": [
    "# Spark SQL"
   ]
  },
  {
   "cell_type": "markdown",
   "metadata": {},
   "source": [
    "O Spark SQL é usado para acessar dados estruturados com Spark."
   ]
  },
  {
   "cell_type": "markdown",
   "metadata": {},
   "source": [
    "#### Acesse http://localhost:4040 sempre que quiser acompanhar a execução dos jobs. \n",
    "#### Pacotes adicionais podem ser encontrados aqui: https://spark-packages.org/ (usaremos um destes pacotes para conexão com o MongoDB)."
   ]
  },
  {
   "cell_type": "markdown",
   "metadata": {},
   "source": [
    "## Spark SQL e RDD's"
   ]
  },
  {
   "cell_type": "code",
   "execution_count": 1,
   "metadata": {},
   "outputs": [],
   "source": [
    "from pyspark.sql import SparkSession\n",
    "from pyspark.sql import SQLContext\n",
    "from pyspark.sql import Row\n",
    "\n",
    "import pyspark\n",
    "from pyspark import SparkContext, SparkConf\n",
    "\n",
    "conf = pyspark.SparkConf().setAppName('Inicial').setMaster('local')\n",
    "sc = pyspark.SparkContext(conf=conf)\n",
    "spark = SparkSession(sc)"
   ]
  },
  {
   "cell_type": "code",
   "execution_count": 2,
   "metadata": {},
   "outputs": [
    {
     "name": "stdout",
     "output_type": "stream",
     "text": [
      "<SparkContext master=local appName=Inicial>\n"
     ]
    }
   ],
   "source": [
    "print(sc)"
   ]
  },
  {
   "cell_type": "code",
   "execution_count": 3,
   "metadata": {},
   "outputs": [],
   "source": [
    "# Spark Session - usada quando se trabalha com Dataframes no Spark\n",
    "spSession = SparkSession.builder.master(\"local\").appName(\"DSA-SparkSQL\").config(\"spark.some.config.option\", \"some-value\").getOrCreate()"
   ]
  },
  {
   "cell_type": "code",
   "execution_count": 4,
   "metadata": {},
   "outputs": [],
   "source": [
    "# Criando o SQL Context para trabalhar com Spark SQL\n",
    "sqlContext = SQLContext(sc)"
   ]
  },
  {
   "cell_type": "code",
   "execution_count": 5,
   "metadata": {},
   "outputs": [],
   "source": [
    "# Importando o arquivo e criando um RDD\n",
    "linhasRDD1 = sc.textFile(\"carros.csv\")"
   ]
  },
  {
   "cell_type": "code",
   "execution_count": 6,
   "metadata": {},
   "outputs": [
    {
     "data": {
      "text/plain": [
       "198"
      ]
     },
     "execution_count": 6,
     "metadata": {},
     "output_type": "execute_result"
    }
   ],
   "source": [
    "linhasRDD1.count()"
   ]
  },
  {
   "cell_type": "code",
   "execution_count": 7,
   "metadata": {},
   "outputs": [],
   "source": [
    "# Removendo a primeira linha - Transformação 1\n",
    "linhasRDD2 = linhasRDD1.filter(lambda x: \"FUELTYPE\" not in x)"
   ]
  },
  {
   "cell_type": "code",
   "execution_count": 8,
   "metadata": {},
   "outputs": [
    {
     "data": {
      "text/plain": [
       "197"
      ]
     },
     "execution_count": 8,
     "metadata": {},
     "output_type": "execute_result"
    }
   ],
   "source": [
    "linhasRDD2.count()"
   ]
  },
  {
   "cell_type": "code",
   "execution_count": 9,
   "metadata": {},
   "outputs": [],
   "source": [
    "# Dividindo o conjunto de dados em colunas - Transformação 2\n",
    "linhasRDD3 = linhasRDD2.map(lambda line: line.split(\",\"))"
   ]
  },
  {
   "cell_type": "code",
   "execution_count": 10,
   "metadata": {},
   "outputs": [],
   "source": [
    "# Dividindo o conjunto de dados em colunas - Transformação 3\n",
    "linhasRDD4 = linhasRDD3.map(lambda p: Row(make = p[0], body = p[4], hp = int(p[7])))"
   ]
  },
  {
   "cell_type": "code",
   "execution_count": 11,
   "metadata": {},
   "outputs": [],
   "source": [
    "?Row"
   ]
  },
  {
   "cell_type": "code",
   "execution_count": 12,
   "metadata": {},
   "outputs": [
    {
     "data": {
      "text/plain": [
       "[Row(make='subaru', body='hatchback', hp=69),\n",
       " Row(make='chevrolet', body='hatchback', hp=48),\n",
       " Row(make='mazda', body='hatchback', hp=68),\n",
       " Row(make='toyota', body='hatchback', hp=62),\n",
       " Row(make='mitsubishi', body='hatchback', hp=68),\n",
       " Row(make='honda', body='hatchback', hp=60),\n",
       " Row(make='nissan', body='sedan', hp=69),\n",
       " Row(make='dodge', body='hatchback', hp=68),\n",
       " Row(make='plymouth', body='hatchback', hp=68),\n",
       " Row(make='mazda', body='hatchback', hp=68),\n",
       " Row(make='mitsubishi', body='hatchback', hp=68),\n",
       " Row(make='dodge', body='hatchback', hp=68),\n",
       " Row(make='plymouth', body='hatchback', hp=68),\n",
       " Row(make='chevrolet', body='hatchback', hp=70),\n",
       " Row(make='toyota', body='hatchback', hp=62),\n",
       " Row(make='dodge', body='hatchback', hp=68),\n",
       " Row(make='honda', body='hatchback', hp=58),\n",
       " Row(make='toyota', body='hatchback', hp=62),\n",
       " Row(make='honda', body='hatchback', hp=76),\n",
       " Row(make='chevrolet', body='sedan', hp=70),\n",
       " Row(make='nissan', body='sedan', hp=69),\n",
       " Row(make='mitsubishi', body='hatchback', hp=68),\n",
       " Row(make='dodge', body='sedan', hp=68),\n",
       " Row(make='plymouth', body='sedan', hp=68),\n",
       " Row(make='mazda', body='sedan', hp=68),\n",
       " Row(make='isuzu', body='sedan', hp=78),\n",
       " Row(make='mazda', body='hatchback', hp=68),\n",
       " Row(make='nissan', body='sedan', hp=69),\n",
       " Row(make='honda', body='hatchback', hp=76),\n",
       " Row(make='toyota', body='wagon', hp=62),\n",
       " Row(make='toyota', body='sedan', hp=70),\n",
       " Row(make='mitsubishi', body='sedan', hp=88),\n",
       " Row(make='subaru', body='hatchback', hp=73),\n",
       " Row(make='nissan', body='sedan', hp=55),\n",
       " Row(make='subaru', body='sedan', hp=82),\n",
       " Row(make='honda', body='hatchback', hp=76),\n",
       " Row(make='toyota', body='hatchback', hp=70),\n",
       " Row(make='honda', body='sedan', hp=76),\n",
       " Row(make='honda', body='wagon', hp=76),\n",
       " Row(make='nissan', body='sedan', hp=69),\n",
       " Row(make='nissan', body='wagon', hp=69),\n",
       " Row(make='mazda', body='sedan', hp=68),\n",
       " Row(make='subaru', body='wagon', hp=82),\n",
       " Row(make='nissan', body='sedan', hp=69),\n",
       " Row(make='subaru', body='hatchback', hp=73),\n",
       " Row(make='dodge', body='sedan', hp=68),\n",
       " Row(make='plymouth', body='sedan', hp=68),\n",
       " Row(make='mitsubishi', body='hatchback', hp=102),\n",
       " Row(make='toyota', body='sedan', hp=70),\n",
       " Row(make='subaru', body='sedan', hp=82),\n",
       " Row(make='volkswagen', body='sedan', hp=52),\n",
       " Row(make='toyota', body='hatchback', hp=56),\n",
       " Row(make='nissan', body='hatchback', hp=69),\n",
       " Row(make='honda', body='hatchback', hp=86),\n",
       " Row(make='toyota', body='wagon', hp=62),\n",
       " Row(make='toyota', body='sedan', hp=56),\n",
       " Row(make='dodge', body='hatchback', hp=102),\n",
       " Row(make='plymouth', body='hatchback', hp=102),\n",
       " Row(make='volkswagen', body='sedan', hp=85),\n",
       " Row(make='volkswagen', body='sedan', hp=52),\n",
       " Row(make='nissan', body='wagon', hp=69),\n",
       " Row(make='subaru', body='wagon', hp=82),\n",
       " Row(make='toyota', body='sedan', hp=70),\n",
       " Row(make='mitsubishi', body='sedan', hp=88),\n",
       " Row(make='volkswagen', body='sedan', hp=85),\n",
       " Row(make='toyota', body='hatchback', hp=70),\n",
       " Row(make='nissan', body='hardtop', hp=69),\n",
       " Row(make='toyota', body='hatchback', hp=70),\n",
       " Row(make='toyota', body='hardtop', hp=116),\n",
       " Row(make='mazda', body='sedan', hp=84),\n",
       " Row(make='volkswagen', body='sedan', hp=85),\n",
       " Row(make='mitsubishi', body='hatchback', hp=88),\n",
       " Row(make='toyota', body='wagon', hp=62),\n",
       " Row(make='honda', body='sedan', hp=86),\n",
       " Row(make='mazda', body='hatchback', hp=84),\n",
       " Row(make='dodge', body='wagon', hp=88),\n",
       " Row(make='plymouth', body='wagon', hp=88),\n",
       " Row(make='toyota', body='sedan', hp=92),\n",
       " Row(make='nissan', body='hatchback', hp=97),\n",
       " Row(make='honda', body='hatchback', hp=86),\n",
       " Row(make='subaru', body='sedan', hp=82),\n",
       " Row(make='toyota', body='sedan', hp=70),\n",
       " Row(make='mitsubishi', body='sedan', hp=116),\n",
       " Row(make='mitsubishi', body='sedan', hp=116),\n",
       " Row(make='toyota', body='sedan', hp=112),\n",
       " Row(make='volkswagen', body='sedan', hp=68),\n",
       " Row(make='toyota', body='hatchback', hp=112),\n",
       " Row(make='nissan', body='sedan', hp=97),\n",
       " Row(make='toyota', body='hardtop', hp=116),\n",
       " Row(make='mitsubishi', body='hatchback', hp=116),\n",
       " Row(make='subaru', body='sedan', hp=94),\n",
       " Row(make='volkswagen', body='hatchback', hp=90),\n",
       " Row(make='toyota', body='hatchback', hp=92),\n",
       " Row(make='toyota', body='hatchback', hp=116),\n",
       " Row(make='volkswagen', body='sedan', hp=100),\n",
       " Row(make='subaru', body='wagon', hp=94),\n",
       " Row(make='mazda', body='sedan', hp=84),\n",
       " Row(make='honda', body='sedan', hp=86),\n",
       " Row(make='honda', body='sedan', hp=100),\n",
       " Row(make='mazda', body='hatchback', hp=84),\n",
       " Row(make='toyota', body='sedan', hp=73),\n",
       " Row(make='toyota', body='sedan', hp=92),\n",
       " Row(make='mazda', body='hatchback', hp=101),\n",
       " Row(make='isuzu', body='hatchback', hp=90),\n",
       " Row(make='toyota', body='hardtop', hp=116),\n",
       " Row(make='mazda', body='hatchback', hp=84),\n",
       " Row(make='toyota', body='hatchback', hp=92),\n",
       " Row(make='subaru', body='sedan', hp=111),\n",
       " Row(make='toyota', body='hatchback', hp=116),\n",
       " Row(make='volkswagen', body='convertible', hp=90),\n",
       " Row(make='subaru', body='wagon', hp=111),\n",
       " Row(make='mazda', body='hatchback', hp=101),\n",
       " Row(make='saab', body='hatchback', hp=110),\n",
       " Row(make='peugot', body='sedan', hp=97),\n",
       " Row(make='saab', body='sedan', hp=110),\n",
       " Row(make='volkswagen', body='wagon', hp=88),\n",
       " Row(make='peugot', body='wagon', hp=97),\n",
       " Row(make='mitsubishi', body='hatchback', hp=145),\n",
       " Row(make='plymouth', body='hatchback', hp=145),\n",
       " Row(make='volvo', body='sedan', hp=114),\n",
       " Row(make='honda', body='sedan', hp=101),\n",
       " Row(make='dodge', body='hatchback', hp=145),\n",
       " Row(make='peugot', body='sedan', hp=95),\n",
       " Row(make='volkswagen', body='sedan', hp=110),\n",
       " Row(make='volvo', body='wagon', hp=114),\n",
       " Row(make='alfa-romero', body='convertible', hp=111),\n",
       " Row(make='nissan', body='sedan', hp=152),\n",
       " Row(make='nissan', body='sedan', hp=152),\n",
       " Row(make='mazda', body='hatchback', hp=101),\n",
       " Row(make='volkswagen', body='sedan', hp=68),\n",
       " Row(make='peugot', body='wagon', hp=95),\n",
       " Row(make='audi', body='sedan', hp=102),\n",
       " Row(make='nissan', body='wagon', hp=152),\n",
       " Row(make='mitsubishi', body='hatchback', hp=145),\n",
       " Row(make='mitsubishi', body='hatchback', hp=145),\n",
       " Row(make='saab', body='hatchback', hp=110),\n",
       " Row(make='audi', body='sedan', hp=110),\n",
       " Row(make='saab', body='sedan', hp=110),\n",
       " Row(make='peugot', body='sedan', hp=95),\n",
       " Row(make='mazda', body='hatchback', hp=135),\n",
       " Row(make='toyota', body='sedan', hp=156),\n",
       " Row(make='toyota', body='wagon', hp=156),\n",
       " Row(make='volvo', body='sedan', hp=114),\n",
       " Row(make='toyota', body='hatchback', hp=161),\n",
       " Row(make='bmw', body='sedan', hp=101),\n",
       " Row(make='alfa-romero', body='convertible', hp=111),\n",
       " Row(make='alfa-romero', body='hatchback', hp=154),\n",
       " Row(make='mercury', body='hatchback', hp=175),\n",
       " Row(make='volvo', body='wagon', hp=114),\n",
       " Row(make='toyota', body='hatchback', hp=161),\n",
       " Row(make='peugot', body='sedan', hp=97),\n",
       " Row(make='peugot', body='wagon', hp=95),\n",
       " Row(make='volvo', body='sedan', hp=114),\n",
       " Row(make='peugot', body='sedan', hp=95),\n",
       " Row(make='bmw', body='sedan', hp=101),\n",
       " Row(make='peugot', body='wagon', hp=95),\n",
       " Row(make='nissan', body='hatchback', hp=160),\n",
       " Row(make='audi', body='sedan', hp=115),\n",
       " Row(make='toyota', body='convertible', hp=116),\n",
       " Row(make='audi', body='sedan', hp=110),\n",
       " Row(make='peugot', body='sedan', hp=95),\n",
       " Row(make='peugot', body='sedan', hp=142),\n",
       " Row(make='saab', body='hatchback', hp=160),\n",
       " Row(make='mazda', body='sedan', hp=120),\n",
       " Row(make='mazda', body='sedan', hp=72),\n",
       " Row(make='nissan', body='hatchback', hp=160),\n",
       " Row(make='volvo', body='sedan', hp=162),\n",
       " Row(make='saab', body='sedan', hp=160),\n",
       " Row(make='audi', body='wagon', hp=110),\n",
       " Row(make='volvo', body='wagon', hp=162),\n",
       " Row(make='volvo', body='sedan', hp=160),\n",
       " Row(make='nissan', body='hatchback', hp=200),\n",
       " Row(make='bmw', body='sedan', hp=121),\n",
       " Row(make='bmw', body='sedan', hp=121),\n",
       " Row(make='volvo', body='sedan', hp=134),\n",
       " Row(make='porsche', body='hatchback', hp=143),\n",
       " Row(make='volvo', body='sedan', hp=106),\n",
       " Row(make='volvo', body='sedan', hp=114),\n",
       " Row(make='audi', body='sedan', hp=140),\n",
       " Row(make='bmw', body='sedan', hp=121),\n",
       " Row(make='mercedes-benz', body='sedan', hp=123),\n",
       " Row(make='mercedes-benz', body='hardtop', hp=123),\n",
       " Row(make='mercedes-benz', body='wagon', hp=123),\n",
       " Row(make='bmw', body='sedan', hp=182),\n",
       " Row(make='mercedes-benz', body='sedan', hp=123),\n",
       " Row(make='jaguar', body='sedan', hp=176),\n",
       " Row(make='porsche', body='hardtop', hp=207),\n",
       " Row(make='porsche', body='hardtop', hp=207),\n",
       " Row(make='mercedes-benz', body='sedan', hp=155),\n",
       " Row(make='mercedes-benz', body='convertible', hp=155),\n",
       " Row(make='jaguar', body='sedan', hp=176),\n",
       " Row(make='jaguar', body='sedan', hp=262),\n",
       " Row(make='bmw', body='sedan', hp=182),\n",
       " Row(make='porsche', body='convertible', hp=207),\n",
       " Row(make='mercedes-benz', body='sedan', hp=184),\n",
       " Row(make='bmw', body='sedan', hp=182),\n",
       " Row(make='mercedes-benz', body='hardtop', hp=184)]"
      ]
     },
     "execution_count": 12,
     "metadata": {},
     "output_type": "execute_result"
    }
   ],
   "source": [
    "linhasRDD4.collect()"
   ]
  },
  {
   "cell_type": "code",
   "execution_count": 13,
   "metadata": {},
   "outputs": [],
   "source": [
    "# Criando um dataframe a partir do RDD\n",
    "linhasDF = spSession.createDataFrame(linhasRDD4)"
   ]
  },
  {
   "cell_type": "code",
   "execution_count": 14,
   "metadata": {},
   "outputs": [
    {
     "name": "stdout",
     "output_type": "stream",
     "text": [
      "+----------+---------+---+\n",
      "|      make|     body| hp|\n",
      "+----------+---------+---+\n",
      "|    subaru|hatchback| 69|\n",
      "| chevrolet|hatchback| 48|\n",
      "|     mazda|hatchback| 68|\n",
      "|    toyota|hatchback| 62|\n",
      "|mitsubishi|hatchback| 68|\n",
      "|     honda|hatchback| 60|\n",
      "|    nissan|    sedan| 69|\n",
      "|     dodge|hatchback| 68|\n",
      "|  plymouth|hatchback| 68|\n",
      "|     mazda|hatchback| 68|\n",
      "|mitsubishi|hatchback| 68|\n",
      "|     dodge|hatchback| 68|\n",
      "|  plymouth|hatchback| 68|\n",
      "| chevrolet|hatchback| 70|\n",
      "|    toyota|hatchback| 62|\n",
      "|     dodge|hatchback| 68|\n",
      "|     honda|hatchback| 58|\n",
      "|    toyota|hatchback| 62|\n",
      "|     honda|hatchback| 76|\n",
      "| chevrolet|    sedan| 70|\n",
      "+----------+---------+---+\n",
      "only showing top 20 rows\n",
      "\n"
     ]
    }
   ],
   "source": [
    "linhasDF.show()"
   ]
  },
  {
   "cell_type": "code",
   "execution_count": 15,
   "metadata": {},
   "outputs": [
    {
     "data": {
      "text/plain": [
       "pyspark.sql.dataframe.DataFrame"
      ]
     },
     "execution_count": 15,
     "metadata": {},
     "output_type": "execute_result"
    }
   ],
   "source": [
    "type(linhasDF)"
   ]
  },
  {
   "cell_type": "code",
   "execution_count": 16,
   "metadata": {},
   "outputs": [
    {
     "name": "stdout",
     "output_type": "stream",
     "text": [
      "+----------+---------+---+\n",
      "|      make|     body| hp|\n",
      "+----------+---------+---+\n",
      "|    subaru|hatchback| 69|\n",
      "| chevrolet|hatchback| 48|\n",
      "|     mazda|hatchback| 68|\n",
      "|    toyota|hatchback| 62|\n",
      "|mitsubishi|hatchback| 68|\n",
      "|     honda|hatchback| 60|\n",
      "|    nissan|    sedan| 69|\n",
      "|     dodge|hatchback| 68|\n",
      "|  plymouth|hatchback| 68|\n",
      "|     mazda|hatchback| 68|\n",
      "|mitsubishi|hatchback| 68|\n",
      "|     dodge|hatchback| 68|\n",
      "|  plymouth|hatchback| 68|\n",
      "| chevrolet|hatchback| 70|\n",
      "|    toyota|hatchback| 62|\n",
      "|     dodge|hatchback| 68|\n",
      "|     honda|hatchback| 58|\n",
      "|    toyota|hatchback| 62|\n",
      "|     honda|hatchback| 76|\n",
      "| chevrolet|    sedan| 70|\n",
      "+----------+---------+---+\n",
      "only showing top 20 rows\n",
      "\n"
     ]
    }
   ],
   "source": [
    "linhasDF.select(\"*\").show()"
   ]
  },
  {
   "cell_type": "code",
   "execution_count": 17,
   "metadata": {},
   "outputs": [
    {
     "name": "stdout",
     "output_type": "stream",
     "text": [
      "+-----------+-----------+---+\n",
      "|       make|       body| hp|\n",
      "+-----------+-----------+---+\n",
      "|alfa-romero|  hatchback|154|\n",
      "|alfa-romero|convertible|111|\n",
      "|alfa-romero|convertible|111|\n",
      "|       audi|      sedan|110|\n",
      "|       audi|      sedan|115|\n",
      "|       audi|      sedan|110|\n",
      "|       audi|      wagon|110|\n",
      "|       audi|      sedan|140|\n",
      "|       audi|      sedan|102|\n",
      "|        bmw|      sedan|121|\n",
      "|        bmw|      sedan|101|\n",
      "|        bmw|      sedan|121|\n",
      "|        bmw|      sedan|121|\n",
      "|        bmw|      sedan|182|\n",
      "|        bmw|      sedan|101|\n",
      "|        bmw|      sedan|182|\n",
      "|        bmw|      sedan|182|\n",
      "|  chevrolet|  hatchback| 48|\n",
      "|  chevrolet|  hatchback| 70|\n",
      "|  chevrolet|      sedan| 70|\n",
      "+-----------+-----------+---+\n",
      "only showing top 20 rows\n",
      "\n"
     ]
    }
   ],
   "source": [
    "linhasDF.orderBy(\"make\").show()"
   ]
  },
  {
   "cell_type": "code",
   "execution_count": 18,
   "metadata": {},
   "outputs": [],
   "source": [
    "# Registrando o dataframe como uma Temp Table\n",
    "linhasDF.createOrReplaceTempView(\"linhasTB\")"
   ]
  },
  {
   "cell_type": "code",
   "execution_count": 19,
   "metadata": {},
   "outputs": [
    {
     "name": "stdout",
     "output_type": "stream",
     "text": [
      "+------+---------+---+\n",
      "|  make|     body| hp|\n",
      "+------+---------+---+\n",
      "|nissan|    sedan| 69|\n",
      "|nissan|    sedan| 69|\n",
      "|nissan|    sedan| 69|\n",
      "|nissan|    sedan| 55|\n",
      "|nissan|    sedan| 69|\n",
      "|nissan|    wagon| 69|\n",
      "|nissan|    sedan| 69|\n",
      "|nissan|hatchback| 69|\n",
      "|nissan|    wagon| 69|\n",
      "|nissan|  hardtop| 69|\n",
      "|nissan|hatchback| 97|\n",
      "|nissan|    sedan| 97|\n",
      "|nissan|    sedan|152|\n",
      "|nissan|    sedan|152|\n",
      "|nissan|    wagon|152|\n",
      "|nissan|hatchback|160|\n",
      "|nissan|hatchback|160|\n",
      "|nissan|hatchback|200|\n",
      "+------+---------+---+\n",
      "\n"
     ]
    }
   ],
   "source": [
    "# Executando queries SQL ANSI\n",
    "spSession.sql(\"select * from linhasTB where make = 'nissan'\").show()"
   ]
  },
  {
   "cell_type": "code",
   "execution_count": 20,
   "metadata": {},
   "outputs": [
    {
     "name": "stdout",
     "output_type": "stream",
     "text": [
      "+-------------+-----------+-----------------+\n",
      "|         make|       body|          avg(hp)|\n",
      "+-------------+-----------+-----------------+\n",
      "|       nissan|      wagon|96.66666666666667|\n",
      "|       subaru|      sedan|             90.2|\n",
      "|     plymouth|      sedan|             68.0|\n",
      "|        dodge|  hatchback|             90.2|\n",
      "|       nissan|      sedan|             89.0|\n",
      "|        honda|      sedan|             89.8|\n",
      "|   mitsubishi|  hatchback|            105.0|\n",
      "|        mazda|      sedan|82.66666666666667|\n",
      "|  alfa-romero|convertible|            111.0|\n",
      "|mercedes-benz|convertible|            155.0|\n",
      "|     plymouth|      wagon|             88.0|\n",
      "|mercedes-benz|      wagon|            123.0|\n",
      "|        isuzu|  hatchback|             90.0|\n",
      "|       toyota|convertible|            116.0|\n",
      "|        mazda|  hatchback|             89.4|\n",
      "|    chevrolet|      sedan|             70.0|\n",
      "|      mercury|  hatchback|            175.0|\n",
      "|      porsche|  hatchback|            143.0|\n",
      "|        honda|      wagon|             76.0|\n",
      "|      porsche|convertible|            207.0|\n",
      "+-------------+-----------+-----------------+\n",
      "only showing top 20 rows\n",
      "\n"
     ]
    }
   ],
   "source": [
    "# Executando queries SQL ANSI\n",
    "spSession.sql(\"select make, body, avg(hp) from linhasTB group by make, body\").show()"
   ]
  },
  {
   "cell_type": "markdown",
   "metadata": {},
   "source": [
    "## Spark SQL e Arquivos CSV"
   ]
  },
  {
   "cell_type": "code",
   "execution_count": 21,
   "metadata": {},
   "outputs": [],
   "source": [
    "carrosDF = spSession.read.csv(\"carros.csv\", header = True)"
   ]
  },
  {
   "cell_type": "code",
   "execution_count": 22,
   "metadata": {},
   "outputs": [
    {
     "data": {
      "text/plain": [
       "pyspark.sql.dataframe.DataFrame"
      ]
     },
     "execution_count": 22,
     "metadata": {},
     "output_type": "execute_result"
    }
   ],
   "source": [
    "type(carrosDF)"
   ]
  },
  {
   "cell_type": "code",
   "execution_count": 23,
   "metadata": {},
   "outputs": [
    {
     "name": "stdout",
     "output_type": "stream",
     "text": [
      "+----------+--------+------+-----+---------+-----+---------+---+----+--------+-------+-----+\n",
      "|      MAKE|FUELTYPE|ASPIRE|DOORS|     BODY|DRIVE|CYLINDERS| HP| RPM|MPG-CITY|MPG-HWY|PRICE|\n",
      "+----------+--------+------+-----+---------+-----+---------+---+----+--------+-------+-----+\n",
      "|    subaru|     gas|   std|  two|hatchback|  fwd|     four| 69|4900|      31|     36| 5118|\n",
      "| chevrolet|     gas|   std|  two|hatchback|  fwd|    three| 48|5100|      47|     53| 5151|\n",
      "|     mazda|     gas|   std|  two|hatchback|  fwd|     four| 68|5000|      30|     31| 5195|\n",
      "|    toyota|     gas|   std|  two|hatchback|  fwd|     four| 62|4800|      35|     39| 5348|\n",
      "|mitsubishi|     gas|   std|  two|hatchback|  fwd|     four| 68|5500|      37|     41| 5389|\n",
      "|     honda|     gas|   std|  two|hatchback|  fwd|     four| 60|5500|      38|     42| 5399|\n",
      "|    nissan|     gas|   std|  two|    sedan|  fwd|     four| 69|5200|      31|     37| 5499|\n",
      "|     dodge|     gas|   std|  two|hatchback|  fwd|     four| 68|5500|      37|     41| 5572|\n",
      "|  plymouth|     gas|   std|  two|hatchback|  fwd|     four| 68|5500|      37|     41| 5572|\n",
      "|     mazda|     gas|   std|  two|hatchback|  fwd|     four| 68|5000|      31|     38| 6095|\n",
      "|mitsubishi|     gas|   std|  two|hatchback|  fwd|     four| 68|5500|      31|     38| 6189|\n",
      "|     dodge|     gas|   std| four|hatchback|  fwd|     four| 68|5500|      31|     38| 6229|\n",
      "|  plymouth|     gas|   std| four|hatchback|  fwd|     four| 68|5500|      31|     38| 6229|\n",
      "| chevrolet|     gas|   std|  two|hatchback|  fwd|     four| 70|5400|      38|     43| 6295|\n",
      "|    toyota|     gas|   std|  two|hatchback|  fwd|     four| 62|4800|      31|     38| 6338|\n",
      "|     dodge|     gas|   std|  two|hatchback|  fwd|     four| 68|5500|      31|     38| 6377|\n",
      "|     honda|     gas|   std|  two|hatchback|  fwd|     four| 58|4800|      49|     54| 6479|\n",
      "|    toyota|     gas|   std| four|hatchback|  fwd|     four| 62|4800|      31|     38| 6488|\n",
      "|     honda|     gas|   std|  two|hatchback|  fwd|     four| 76|6000|      30|     34| 6529|\n",
      "| chevrolet|     gas|   std| four|    sedan|  fwd|     four| 70|5400|      38|     43| 6575|\n",
      "+----------+--------+------+-----+---------+-----+---------+---+----+--------+-------+-----+\n",
      "only showing top 20 rows\n",
      "\n"
     ]
    }
   ],
   "source": [
    "carrosDF.show()"
   ]
  },
  {
   "cell_type": "code",
   "execution_count": 24,
   "metadata": {},
   "outputs": [],
   "source": [
    "# Registrando o dataframe como uma Temp Table\n",
    "carrosDF.createOrReplaceTempView(\"carrosTB\")"
   ]
  },
  {
   "cell_type": "code",
   "execution_count": 25,
   "metadata": {},
   "outputs": [
    {
     "name": "stdout",
     "output_type": "stream",
     "text": [
      "+---------+---+-----+\n",
      "|     make| hp|price|\n",
      "+---------+---+-----+\n",
      "|chevrolet| 48| 5151|\n",
      "+---------+---+-----+\n",
      "\n"
     ]
    }
   ],
   "source": [
    "# Executando queries SQL ANSI\n",
    "spSession.sql(\"select make, hp, price from carrosTB where CYLINDERS = 'three'\").show()"
   ]
  },
  {
   "cell_type": "code",
   "execution_count": 26,
   "metadata": {},
   "outputs": [],
   "source": [
    "carrosTT = spSession.sql(\"select make, hp, price from carrosTB where CYLINDERS = 'three'\")"
   ]
  },
  {
   "cell_type": "code",
   "execution_count": 27,
   "metadata": {},
   "outputs": [
    {
     "name": "stdout",
     "output_type": "stream",
     "text": [
      "+---------+---+-----+\n",
      "|     make| hp|price|\n",
      "+---------+---+-----+\n",
      "|chevrolet| 48| 5151|\n",
      "+---------+---+-----+\n",
      "\n"
     ]
    }
   ],
   "source": [
    "carrosTT.show()"
   ]
  },
  {
   "cell_type": "markdown",
   "metadata": {},
   "source": [
    "## Aplicando Machine Learning"
   ]
  },
  {
   "cell_type": "code",
   "execution_count": 28,
   "metadata": {},
   "outputs": [
    {
     "data": {
      "text/plain": [
       "carros.csv MapPartitionsRDD[46] at textFile at <unknown>:0"
      ]
     },
     "execution_count": 28,
     "metadata": {},
     "output_type": "execute_result"
    }
   ],
   "source": [
    "# Carregando o arquivo CSV e mantendo o objeto em cache\n",
    "carros = sc.textFile(\"carros.csv\")\n",
    "carros.cache()"
   ]
  },
  {
   "cell_type": "code",
   "execution_count": 29,
   "metadata": {},
   "outputs": [
    {
     "data": {
      "text/plain": [
       "197"
      ]
     },
     "execution_count": 29,
     "metadata": {},
     "output_type": "execute_result"
    }
   ],
   "source": [
    "# Remove a primeira linha (header)\n",
    "primeiraLinha = carros.first()\n",
    "linhas = carros.filter(lambda x: x != primeiraLinha)\n",
    "linhas.count()"
   ]
  },
  {
   "cell_type": "code",
   "execution_count": 30,
   "metadata": {},
   "outputs": [],
   "source": [
    "# Importando função row e função vectors\n",
    "from pyspark.sql import Row\n",
    "from pyspark.ml.linalg import Vectors\n",
    "import math"
   ]
  },
  {
   "cell_type": "code",
   "execution_count": 31,
   "metadata": {},
   "outputs": [],
   "source": [
    "# Convertendo para um vetor de linhas\n",
    "def transformToNumeric( inputStr) :\n",
    "    attList = inputStr.split(\",\")\n",
    "    doors = 1.0 if attList[3] == \"two\" else 2.0\n",
    "    body = 1.0 if attList[4] == \"sedan\" else 2.0 \n",
    "       \n",
    "    # Filtrando colunas não necessárias nesta etapa\n",
    "    valores = Row(DOORS = doors, BODY = float(body), HP = float(attList[7]), RPM = float(attList[8]), MPG = float(attList[9]))\n",
    "    return valores"
   ]
  },
  {
   "cell_type": "code",
   "execution_count": 32,
   "metadata": {},
   "outputs": [
    {
     "data": {
      "text/plain": [
       "[Row(DOORS=1.0, BODY=2.0, HP=69.0, RPM=4900.0, MPG=31.0),\n",
       " Row(DOORS=1.0, BODY=2.0, HP=48.0, RPM=5100.0, MPG=47.0),\n",
       " Row(DOORS=1.0, BODY=2.0, HP=68.0, RPM=5000.0, MPG=30.0),\n",
       " Row(DOORS=1.0, BODY=2.0, HP=62.0, RPM=4800.0, MPG=35.0),\n",
       " Row(DOORS=1.0, BODY=2.0, HP=68.0, RPM=5500.0, MPG=37.0),\n",
       " Row(DOORS=1.0, BODY=2.0, HP=60.0, RPM=5500.0, MPG=38.0),\n",
       " Row(DOORS=1.0, BODY=1.0, HP=69.0, RPM=5200.0, MPG=31.0),\n",
       " Row(DOORS=1.0, BODY=2.0, HP=68.0, RPM=5500.0, MPG=37.0),\n",
       " Row(DOORS=1.0, BODY=2.0, HP=68.0, RPM=5500.0, MPG=37.0),\n",
       " Row(DOORS=1.0, BODY=2.0, HP=68.0, RPM=5000.0, MPG=31.0),\n",
       " Row(DOORS=1.0, BODY=2.0, HP=68.0, RPM=5500.0, MPG=31.0),\n",
       " Row(DOORS=2.0, BODY=2.0, HP=68.0, RPM=5500.0, MPG=31.0),\n",
       " Row(DOORS=2.0, BODY=2.0, HP=68.0, RPM=5500.0, MPG=31.0),\n",
       " Row(DOORS=1.0, BODY=2.0, HP=70.0, RPM=5400.0, MPG=38.0),\n",
       " Row(DOORS=1.0, BODY=2.0, HP=62.0, RPM=4800.0, MPG=31.0),\n",
       " Row(DOORS=1.0, BODY=2.0, HP=68.0, RPM=5500.0, MPG=31.0),\n",
       " Row(DOORS=1.0, BODY=2.0, HP=58.0, RPM=4800.0, MPG=49.0),\n",
       " Row(DOORS=2.0, BODY=2.0, HP=62.0, RPM=4800.0, MPG=31.0),\n",
       " Row(DOORS=1.0, BODY=2.0, HP=76.0, RPM=6000.0, MPG=30.0),\n",
       " Row(DOORS=2.0, BODY=1.0, HP=70.0, RPM=5400.0, MPG=38.0),\n",
       " Row(DOORS=1.0, BODY=1.0, HP=69.0, RPM=5200.0, MPG=31.0),\n",
       " Row(DOORS=1.0, BODY=2.0, HP=68.0, RPM=5500.0, MPG=31.0),\n",
       " Row(DOORS=2.0, BODY=1.0, HP=68.0, RPM=5500.0, MPG=31.0),\n",
       " Row(DOORS=2.0, BODY=1.0, HP=68.0, RPM=5500.0, MPG=31.0),\n",
       " Row(DOORS=2.0, BODY=1.0, HP=68.0, RPM=5000.0, MPG=31.0),\n",
       " Row(DOORS=2.0, BODY=1.0, HP=78.0, RPM=4800.0, MPG=24.0),\n",
       " Row(DOORS=1.0, BODY=2.0, HP=68.0, RPM=5000.0, MPG=31.0),\n",
       " Row(DOORS=2.0, BODY=1.0, HP=69.0, RPM=5200.0, MPG=31.0),\n",
       " Row(DOORS=1.0, BODY=2.0, HP=76.0, RPM=6000.0, MPG=31.0),\n",
       " Row(DOORS=2.0, BODY=2.0, HP=62.0, RPM=4800.0, MPG=31.0),\n",
       " Row(DOORS=2.0, BODY=1.0, HP=70.0, RPM=4800.0, MPG=30.0),\n",
       " Row(DOORS=2.0, BODY=1.0, HP=88.0, RPM=5000.0, MPG=25.0),\n",
       " Row(DOORS=1.0, BODY=2.0, HP=73.0, RPM=4400.0, MPG=26.0),\n",
       " Row(DOORS=1.0, BODY=1.0, HP=55.0, RPM=4800.0, MPG=45.0),\n",
       " Row(DOORS=2.0, BODY=1.0, HP=82.0, RPM=4800.0, MPG=32.0),\n",
       " Row(DOORS=1.0, BODY=2.0, HP=76.0, RPM=6000.0, MPG=30.0),\n",
       " Row(DOORS=2.0, BODY=2.0, HP=70.0, RPM=4800.0, MPG=30.0),\n",
       " Row(DOORS=2.0, BODY=1.0, HP=76.0, RPM=6000.0, MPG=30.0),\n",
       " Row(DOORS=2.0, BODY=2.0, HP=76.0, RPM=6000.0, MPG=30.0),\n",
       " Row(DOORS=1.0, BODY=1.0, HP=69.0, RPM=5200.0, MPG=31.0),\n",
       " Row(DOORS=2.0, BODY=2.0, HP=69.0, RPM=5200.0, MPG=31.0),\n",
       " Row(DOORS=2.0, BODY=1.0, HP=68.0, RPM=5000.0, MPG=31.0),\n",
       " Row(DOORS=2.0, BODY=2.0, HP=82.0, RPM=4800.0, MPG=28.0),\n",
       " Row(DOORS=2.0, BODY=1.0, HP=69.0, RPM=5200.0, MPG=31.0),\n",
       " Row(DOORS=1.0, BODY=2.0, HP=73.0, RPM=4400.0, MPG=26.0),\n",
       " Row(DOORS=2.0, BODY=1.0, HP=68.0, RPM=5500.0, MPG=31.0),\n",
       " Row(DOORS=2.0, BODY=1.0, HP=68.0, RPM=5500.0, MPG=31.0),\n",
       " Row(DOORS=1.0, BODY=2.0, HP=102.0, RPM=5500.0, MPG=24.0),\n",
       " Row(DOORS=2.0, BODY=1.0, HP=70.0, RPM=4800.0, MPG=38.0),\n",
       " Row(DOORS=2.0, BODY=1.0, HP=82.0, RPM=4400.0, MPG=28.0),\n",
       " Row(DOORS=1.0, BODY=1.0, HP=52.0, RPM=4800.0, MPG=37.0),\n",
       " Row(DOORS=2.0, BODY=2.0, HP=56.0, RPM=4500.0, MPG=38.0),\n",
       " Row(DOORS=1.0, BODY=2.0, HP=69.0, RPM=5200.0, MPG=31.0),\n",
       " Row(DOORS=1.0, BODY=2.0, HP=86.0, RPM=5800.0, MPG=27.0),\n",
       " Row(DOORS=2.0, BODY=2.0, HP=62.0, RPM=4800.0, MPG=27.0),\n",
       " Row(DOORS=2.0, BODY=1.0, HP=56.0, RPM=4500.0, MPG=34.0),\n",
       " Row(DOORS=1.0, BODY=2.0, HP=102.0, RPM=5500.0, MPG=24.0),\n",
       " Row(DOORS=1.0, BODY=2.0, HP=102.0, RPM=5500.0, MPG=24.0),\n",
       " Row(DOORS=1.0, BODY=1.0, HP=85.0, RPM=5250.0, MPG=27.0),\n",
       " Row(DOORS=2.0, BODY=1.0, HP=52.0, RPM=4800.0, MPG=37.0),\n",
       " Row(DOORS=2.0, BODY=2.0, HP=69.0, RPM=5200.0, MPG=31.0),\n",
       " Row(DOORS=2.0, BODY=2.0, HP=82.0, RPM=4800.0, MPG=23.0),\n",
       " Row(DOORS=1.0, BODY=1.0, HP=70.0, RPM=4800.0, MPG=29.0),\n",
       " Row(DOORS=2.0, BODY=1.0, HP=88.0, RPM=5000.0, MPG=25.0),\n",
       " Row(DOORS=2.0, BODY=1.0, HP=85.0, RPM=5250.0, MPG=27.0),\n",
       " Row(DOORS=1.0, BODY=2.0, HP=70.0, RPM=4800.0, MPG=29.0),\n",
       " Row(DOORS=1.0, BODY=2.0, HP=69.0, RPM=5200.0, MPG=31.0),\n",
       " Row(DOORS=2.0, BODY=2.0, HP=70.0, RPM=4800.0, MPG=28.0),\n",
       " Row(DOORS=1.0, BODY=2.0, HP=116.0, RPM=4800.0, MPG=24.0),\n",
       " Row(DOORS=2.0, BODY=1.0, HP=84.0, RPM=4800.0, MPG=26.0),\n",
       " Row(DOORS=2.0, BODY=1.0, HP=85.0, RPM=5250.0, MPG=27.0),\n",
       " Row(DOORS=1.0, BODY=2.0, HP=88.0, RPM=5000.0, MPG=25.0),\n",
       " Row(DOORS=2.0, BODY=2.0, HP=62.0, RPM=4800.0, MPG=27.0),\n",
       " Row(DOORS=2.0, BODY=1.0, HP=86.0, RPM=5800.0, MPG=27.0),\n",
       " Row(DOORS=1.0, BODY=2.0, HP=84.0, RPM=4800.0, MPG=26.0),\n",
       " Row(DOORS=2.0, BODY=2.0, HP=88.0, RPM=5000.0, MPG=24.0),\n",
       " Row(DOORS=2.0, BODY=2.0, HP=88.0, RPM=5000.0, MPG=24.0),\n",
       " Row(DOORS=2.0, BODY=1.0, HP=92.0, RPM=4200.0, MPG=29.0),\n",
       " Row(DOORS=2.0, BODY=2.0, HP=97.0, RPM=5200.0, MPG=27.0),\n",
       " Row(DOORS=1.0, BODY=2.0, HP=86.0, RPM=5800.0, MPG=27.0),\n",
       " Row(DOORS=2.0, BODY=1.0, HP=82.0, RPM=4800.0, MPG=24.0),\n",
       " Row(DOORS=2.0, BODY=1.0, HP=70.0, RPM=4800.0, MPG=28.0),\n",
       " Row(DOORS=2.0, BODY=1.0, HP=116.0, RPM=5500.0, MPG=23.0),\n",
       " Row(DOORS=2.0, BODY=1.0, HP=116.0, RPM=5500.0, MPG=23.0),\n",
       " Row(DOORS=1.0, BODY=1.0, HP=112.0, RPM=6600.0, MPG=26.0),\n",
       " Row(DOORS=2.0, BODY=1.0, HP=68.0, RPM=4500.0, MPG=37.0),\n",
       " Row(DOORS=1.0, BODY=2.0, HP=112.0, RPM=6600.0, MPG=26.0),\n",
       " Row(DOORS=2.0, BODY=1.0, HP=97.0, RPM=5200.0, MPG=27.0),\n",
       " Row(DOORS=1.0, BODY=2.0, HP=116.0, RPM=4800.0, MPG=24.0),\n",
       " Row(DOORS=1.0, BODY=2.0, HP=116.0, RPM=5500.0, MPG=23.0),\n",
       " Row(DOORS=2.0, BODY=1.0, HP=94.0, RPM=5200.0, MPG=26.0),\n",
       " Row(DOORS=1.0, BODY=2.0, HP=90.0, RPM=5500.0, MPG=24.0),\n",
       " Row(DOORS=2.0, BODY=2.0, HP=92.0, RPM=4200.0, MPG=27.0),\n",
       " Row(DOORS=1.0, BODY=2.0, HP=116.0, RPM=4800.0, MPG=24.0),\n",
       " Row(DOORS=2.0, BODY=1.0, HP=100.0, RPM=5500.0, MPG=26.0),\n",
       " Row(DOORS=2.0, BODY=2.0, HP=94.0, RPM=5200.0, MPG=25.0),\n",
       " Row(DOORS=2.0, BODY=1.0, HP=84.0, RPM=4800.0, MPG=26.0),\n",
       " Row(DOORS=2.0, BODY=1.0, HP=86.0, RPM=5800.0, MPG=27.0),\n",
       " Row(DOORS=1.0, BODY=1.0, HP=100.0, RPM=5500.0, MPG=25.0),\n",
       " Row(DOORS=1.0, BODY=2.0, HP=84.0, RPM=4800.0, MPG=26.0),\n",
       " Row(DOORS=2.0, BODY=1.0, HP=73.0, RPM=4500.0, MPG=30.0),\n",
       " Row(DOORS=2.0, BODY=1.0, HP=92.0, RPM=4200.0, MPG=27.0),\n",
       " Row(DOORS=1.0, BODY=2.0, HP=101.0, RPM=6000.0, MPG=17.0),\n",
       " Row(DOORS=1.0, BODY=2.0, HP=90.0, RPM=5000.0, MPG=24.0),\n",
       " Row(DOORS=1.0, BODY=2.0, HP=116.0, RPM=4800.0, MPG=24.0),\n",
       " Row(DOORS=2.0, BODY=2.0, HP=84.0, RPM=4800.0, MPG=26.0),\n",
       " Row(DOORS=2.0, BODY=2.0, HP=92.0, RPM=4200.0, MPG=27.0),\n",
       " Row(DOORS=2.0, BODY=1.0, HP=111.0, RPM=4800.0, MPG=24.0),\n",
       " Row(DOORS=1.0, BODY=2.0, HP=116.0, RPM=4800.0, MPG=24.0),\n",
       " Row(DOORS=1.0, BODY=2.0, HP=90.0, RPM=5500.0, MPG=24.0),\n",
       " Row(DOORS=2.0, BODY=2.0, HP=111.0, RPM=4800.0, MPG=23.0),\n",
       " Row(DOORS=1.0, BODY=2.0, HP=101.0, RPM=6000.0, MPG=17.0),\n",
       " Row(DOORS=1.0, BODY=2.0, HP=110.0, RPM=5250.0, MPG=21.0),\n",
       " Row(DOORS=2.0, BODY=1.0, HP=97.0, RPM=5000.0, MPG=19.0),\n",
       " Row(DOORS=2.0, BODY=1.0, HP=110.0, RPM=5250.0, MPG=21.0),\n",
       " Row(DOORS=2.0, BODY=2.0, HP=88.0, RPM=5500.0, MPG=25.0),\n",
       " Row(DOORS=2.0, BODY=2.0, HP=97.0, RPM=5000.0, MPG=19.0),\n",
       " Row(DOORS=1.0, BODY=2.0, HP=145.0, RPM=5000.0, MPG=19.0),\n",
       " Row(DOORS=1.0, BODY=2.0, HP=145.0, RPM=5000.0, MPG=19.0),\n",
       " Row(DOORS=2.0, BODY=1.0, HP=114.0, RPM=5400.0, MPG=23.0),\n",
       " Row(DOORS=2.0, BODY=1.0, HP=101.0, RPM=5800.0, MPG=24.0),\n",
       " Row(DOORS=1.0, BODY=2.0, HP=145.0, RPM=5000.0, MPG=19.0),\n",
       " Row(DOORS=2.0, BODY=1.0, HP=95.0, RPM=4150.0, MPG=28.0),\n",
       " Row(DOORS=2.0, BODY=1.0, HP=110.0, RPM=5500.0, MPG=19.0),\n",
       " Row(DOORS=2.0, BODY=2.0, HP=114.0, RPM=5400.0, MPG=23.0),\n",
       " Row(DOORS=1.0, BODY=2.0, HP=111.0, RPM=5000.0, MPG=21.0),\n",
       " Row(DOORS=2.0, BODY=1.0, HP=152.0, RPM=5200.0, MPG=17.0),\n",
       " Row(DOORS=2.0, BODY=1.0, HP=152.0, RPM=5200.0, MPG=19.0),\n",
       " Row(DOORS=1.0, BODY=2.0, HP=101.0, RPM=6000.0, MPG=17.0),\n",
       " Row(DOORS=2.0, BODY=1.0, HP=68.0, RPM=4500.0, MPG=33.0),\n",
       " Row(DOORS=2.0, BODY=2.0, HP=95.0, RPM=4150.0, MPG=25.0),\n",
       " Row(DOORS=2.0, BODY=1.0, HP=102.0, RPM=5500.0, MPG=24.0),\n",
       " Row(DOORS=2.0, BODY=2.0, HP=152.0, RPM=5200.0, MPG=17.0),\n",
       " Row(DOORS=1.0, BODY=2.0, HP=145.0, RPM=5000.0, MPG=19.0),\n",
       " Row(DOORS=1.0, BODY=2.0, HP=145.0, RPM=5000.0, MPG=19.0),\n",
       " Row(DOORS=1.0, BODY=2.0, HP=110.0, RPM=5250.0, MPG=21.0),\n",
       " Row(DOORS=1.0, BODY=1.0, HP=110.0, RPM=5500.0, MPG=19.0),\n",
       " Row(DOORS=2.0, BODY=1.0, HP=110.0, RPM=5250.0, MPG=21.0),\n",
       " Row(DOORS=2.0, BODY=1.0, HP=95.0, RPM=5000.0, MPG=19.0),\n",
       " Row(DOORS=1.0, BODY=2.0, HP=135.0, RPM=6000.0, MPG=16.0),\n",
       " Row(DOORS=2.0, BODY=1.0, HP=156.0, RPM=5200.0, MPG=20.0),\n",
       " Row(DOORS=2.0, BODY=2.0, HP=156.0, RPM=5200.0, MPG=19.0),\n",
       " Row(DOORS=2.0, BODY=1.0, HP=114.0, RPM=5400.0, MPG=24.0),\n",
       " Row(DOORS=1.0, BODY=2.0, HP=161.0, RPM=5200.0, MPG=19.0),\n",
       " Row(DOORS=1.0, BODY=1.0, HP=101.0, RPM=5800.0, MPG=23.0),\n",
       " Row(DOORS=1.0, BODY=2.0, HP=111.0, RPM=5000.0, MPG=21.0),\n",
       " Row(DOORS=1.0, BODY=2.0, HP=154.0, RPM=5000.0, MPG=19.0),\n",
       " Row(DOORS=1.0, BODY=2.0, HP=175.0, RPM=5000.0, MPG=19.0),\n",
       " Row(DOORS=2.0, BODY=2.0, HP=114.0, RPM=5400.0, MPG=24.0),\n",
       " Row(DOORS=1.0, BODY=2.0, HP=161.0, RPM=5200.0, MPG=20.0),\n",
       " Row(DOORS=2.0, BODY=1.0, HP=97.0, RPM=5000.0, MPG=19.0),\n",
       " Row(DOORS=2.0, BODY=2.0, HP=95.0, RPM=5000.0, MPG=19.0),\n",
       " Row(DOORS=2.0, BODY=1.0, HP=114.0, RPM=5400.0, MPG=23.0),\n",
       " Row(DOORS=2.0, BODY=1.0, HP=95.0, RPM=4150.0, MPG=28.0),\n",
       " Row(DOORS=2.0, BODY=1.0, HP=101.0, RPM=5800.0, MPG=23.0),\n",
       " Row(DOORS=2.0, BODY=2.0, HP=95.0, RPM=4150.0, MPG=25.0),\n",
       " Row(DOORS=1.0, BODY=2.0, HP=160.0, RPM=5200.0, MPG=19.0),\n",
       " Row(DOORS=2.0, BODY=1.0, HP=115.0, RPM=5500.0, MPG=18.0),\n",
       " Row(DOORS=1.0, BODY=2.0, HP=116.0, RPM=4800.0, MPG=24.0),\n",
       " Row(DOORS=2.0, BODY=1.0, HP=110.0, RPM=5500.0, MPG=19.0),\n",
       " Row(DOORS=2.0, BODY=1.0, HP=95.0, RPM=4150.0, MPG=28.0),\n",
       " Row(DOORS=2.0, BODY=1.0, HP=142.0, RPM=5600.0, MPG=18.0),\n",
       " Row(DOORS=1.0, BODY=2.0, HP=160.0, RPM=5500.0, MPG=19.0),\n",
       " Row(DOORS=2.0, BODY=1.0, HP=120.0, RPM=5000.0, MPG=19.0),\n",
       " Row(DOORS=2.0, BODY=1.0, HP=72.0, RPM=4200.0, MPG=31.0),\n",
       " Row(DOORS=1.0, BODY=2.0, HP=160.0, RPM=5200.0, MPG=19.0),\n",
       " Row(DOORS=2.0, BODY=1.0, HP=162.0, RPM=5100.0, MPG=17.0),\n",
       " Row(DOORS=2.0, BODY=1.0, HP=160.0, RPM=5500.0, MPG=19.0),\n",
       " Row(DOORS=2.0, BODY=2.0, HP=110.0, RPM=5500.0, MPG=19.0),\n",
       " Row(DOORS=2.0, BODY=2.0, HP=162.0, RPM=5100.0, MPG=17.0),\n",
       " Row(DOORS=2.0, BODY=1.0, HP=160.0, RPM=5300.0, MPG=19.0),\n",
       " Row(DOORS=1.0, BODY=2.0, HP=200.0, RPM=5200.0, MPG=17.0),\n",
       " Row(DOORS=1.0, BODY=1.0, HP=121.0, RPM=4250.0, MPG=21.0),\n",
       " Row(DOORS=2.0, BODY=1.0, HP=121.0, RPM=4250.0, MPG=21.0),\n",
       " Row(DOORS=2.0, BODY=1.0, HP=134.0, RPM=5500.0, MPG=18.0),\n",
       " Row(DOORS=1.0, BODY=2.0, HP=143.0, RPM=5500.0, MPG=19.0),\n",
       " Row(DOORS=2.0, BODY=1.0, HP=106.0, RPM=4800.0, MPG=26.0),\n",
       " Row(DOORS=2.0, BODY=1.0, HP=114.0, RPM=5400.0, MPG=19.0),\n",
       " Row(DOORS=2.0, BODY=1.0, HP=140.0, RPM=5500.0, MPG=17.0),\n",
       " Row(DOORS=2.0, BODY=1.0, HP=121.0, RPM=4250.0, MPG=20.0),\n",
       " Row(DOORS=2.0, BODY=1.0, HP=123.0, RPM=4350.0, MPG=22.0),\n",
       " Row(DOORS=1.0, BODY=2.0, HP=123.0, RPM=4350.0, MPG=22.0),\n",
       " Row(DOORS=2.0, BODY=2.0, HP=123.0, RPM=4350.0, MPG=22.0),\n",
       " Row(DOORS=2.0, BODY=1.0, HP=182.0, RPM=5400.0, MPG=16.0),\n",
       " Row(DOORS=2.0, BODY=1.0, HP=123.0, RPM=4350.0, MPG=22.0),\n",
       " Row(DOORS=2.0, BODY=1.0, HP=176.0, RPM=4750.0, MPG=15.0),\n",
       " Row(DOORS=1.0, BODY=2.0, HP=207.0, RPM=5900.0, MPG=17.0),\n",
       " Row(DOORS=1.0, BODY=2.0, HP=207.0, RPM=5900.0, MPG=17.0),\n",
       " Row(DOORS=2.0, BODY=1.0, HP=155.0, RPM=4750.0, MPG=16.0),\n",
       " Row(DOORS=1.0, BODY=2.0, HP=155.0, RPM=4750.0, MPG=16.0),\n",
       " Row(DOORS=2.0, BODY=1.0, HP=176.0, RPM=4750.0, MPG=15.0),\n",
       " Row(DOORS=1.0, BODY=1.0, HP=262.0, RPM=5000.0, MPG=13.0),\n",
       " Row(DOORS=2.0, BODY=1.0, HP=182.0, RPM=5400.0, MPG=15.0),\n",
       " Row(DOORS=1.0, BODY=2.0, HP=207.0, RPM=5900.0, MPG=17.0),\n",
       " Row(DOORS=2.0, BODY=1.0, HP=184.0, RPM=4500.0, MPG=14.0),\n",
       " Row(DOORS=1.0, BODY=1.0, HP=182.0, RPM=5400.0, MPG=16.0),\n",
       " Row(DOORS=1.0, BODY=2.0, HP=184.0, RPM=4500.0, MPG=14.0)]"
      ]
     },
     "execution_count": 32,
     "metadata": {},
     "output_type": "execute_result"
    }
   ],
   "source": [
    "autoMap = linhas.map(transformToNumeric)\n",
    "autoMap.persist()\n",
    "autoMap.collect()"
   ]
  },
  {
   "cell_type": "code",
   "execution_count": 33,
   "metadata": {},
   "outputs": [
    {
     "name": "stdout",
     "output_type": "stream",
     "text": [
      "+-----+----+----+------+----+\n",
      "|DOORS|BODY|  HP|   RPM| MPG|\n",
      "+-----+----+----+------+----+\n",
      "|  1.0| 2.0|69.0|4900.0|31.0|\n",
      "|  1.0| 2.0|48.0|5100.0|47.0|\n",
      "|  1.0| 2.0|68.0|5000.0|30.0|\n",
      "|  1.0| 2.0|62.0|4800.0|35.0|\n",
      "|  1.0| 2.0|68.0|5500.0|37.0|\n",
      "|  1.0| 2.0|60.0|5500.0|38.0|\n",
      "|  1.0| 1.0|69.0|5200.0|31.0|\n",
      "|  1.0| 2.0|68.0|5500.0|37.0|\n",
      "|  1.0| 2.0|68.0|5500.0|37.0|\n",
      "|  1.0| 2.0|68.0|5000.0|31.0|\n",
      "|  1.0| 2.0|68.0|5500.0|31.0|\n",
      "|  2.0| 2.0|68.0|5500.0|31.0|\n",
      "|  2.0| 2.0|68.0|5500.0|31.0|\n",
      "|  1.0| 2.0|70.0|5400.0|38.0|\n",
      "|  1.0| 2.0|62.0|4800.0|31.0|\n",
      "|  1.0| 2.0|68.0|5500.0|31.0|\n",
      "|  1.0| 2.0|58.0|4800.0|49.0|\n",
      "|  2.0| 2.0|62.0|4800.0|31.0|\n",
      "|  1.0| 2.0|76.0|6000.0|30.0|\n",
      "|  2.0| 1.0|70.0|5400.0|38.0|\n",
      "+-----+----+----+------+----+\n",
      "only showing top 20 rows\n",
      "\n"
     ]
    }
   ],
   "source": [
    "# Criando o Dataframe\n",
    "carrosDf = spSession.createDataFrame(autoMap)\n",
    "carrosDf.show()"
   ]
  },
  {
   "cell_type": "code",
   "execution_count": 34,
   "metadata": {},
   "outputs": [],
   "source": [
    "# Aplicando técnicas de normalização e escala\n",
    "summStats = carrosDf.describe().toPandas()\n",
    "medias = summStats.iloc[1,1:5].values.tolist()\n",
    "desvios_padroes = summStats.iloc[2,1:5].values.tolist()"
   ]
  },
  {
   "cell_type": "code",
   "execution_count": 35,
   "metadata": {},
   "outputs": [],
   "source": [
    "# Inserindo a média e o desvio padrão em uma variável do tipo broadcast \n",
    "bcMedias = sc.broadcast(medias)\n",
    "bcDesviosP = sc.broadcast(desvios_padroes)"
   ]
  },
  {
   "cell_type": "code",
   "execution_count": 36,
   "metadata": {},
   "outputs": [],
   "source": [
    "def centerAndScale(inRow) :\n",
    "    global bcMedias\n",
    "    global bcDesviosP\n",
    "    \n",
    "    meanArray = bcMedias.value\n",
    "    stdArray = bcDesviosP.value\n",
    "\n",
    "    retArray = []\n",
    "    for i in range(len(meanArray)):\n",
    "        retArray.append( (float(inRow[i]) - float(meanArray[i])) / float(stdArray[i]) )\n",
    "    return Vectors.dense(retArray)"
   ]
  },
  {
   "cell_type": "code",
   "execution_count": 37,
   "metadata": {},
   "outputs": [
    {
     "data": {
      "text/plain": [
       "[DenseVector([-1.145, 0.9337, -0.9194, -0.4532]),\n",
       " DenseVector([-1.145, 0.9337, -1.4773, -0.0375]),\n",
       " DenseVector([-1.145, 0.9337, -0.9459, -0.2453]),\n",
       " DenseVector([-1.145, 0.9337, -1.1053, -0.6611]),\n",
       " DenseVector([-1.145, 0.9337, -0.9459, 0.7941]),\n",
       " DenseVector([-1.145, 0.9337, -1.1585, 0.7941]),\n",
       " DenseVector([-1.145, -1.0656, -0.9194, 0.1704]),\n",
       " DenseVector([-1.145, 0.9337, -0.9459, 0.7941]),\n",
       " DenseVector([-1.145, 0.9337, -0.9459, 0.7941]),\n",
       " DenseVector([-1.145, 0.9337, -0.9459, -0.2453]),\n",
       " DenseVector([-1.145, 0.9337, -0.9459, 0.7941]),\n",
       " DenseVector([0.869, 0.9337, -0.9459, 0.7941]),\n",
       " DenseVector([0.869, 0.9337, -0.9459, 0.7941]),\n",
       " DenseVector([-1.145, 0.9337, -0.8928, 0.5862]),\n",
       " DenseVector([-1.145, 0.9337, -1.1053, -0.6611]),\n",
       " DenseVector([-1.145, 0.9337, -0.9459, 0.7941]),\n",
       " DenseVector([-1.145, 0.9337, -1.2116, -0.6611]),\n",
       " DenseVector([0.869, 0.9337, -1.1053, -0.6611]),\n",
       " DenseVector([-1.145, 0.9337, -0.7334, 1.8335]),\n",
       " DenseVector([0.869, -1.0656, -0.8928, 0.5862]),\n",
       " DenseVector([-1.145, -1.0656, -0.9194, 0.1704]),\n",
       " DenseVector([-1.145, 0.9337, -0.9459, 0.7941]),\n",
       " DenseVector([0.869, -1.0656, -0.9459, 0.7941]),\n",
       " DenseVector([0.869, -1.0656, -0.9459, 0.7941]),\n",
       " DenseVector([0.869, -1.0656, -0.9459, -0.2453]),\n",
       " DenseVector([0.869, -1.0656, -0.6802, -0.6611]),\n",
       " DenseVector([-1.145, 0.9337, -0.9459, -0.2453]),\n",
       " DenseVector([0.869, -1.0656, -0.9194, 0.1704]),\n",
       " DenseVector([-1.145, 0.9337, -0.7334, 1.8335]),\n",
       " DenseVector([0.869, 0.9337, -1.1053, -0.6611]),\n",
       " DenseVector([0.869, -1.0656, -0.8928, -0.6611]),\n",
       " DenseVector([0.869, -1.0656, -0.4146, -0.2453]),\n",
       " DenseVector([-1.145, 0.9337, -0.8131, -1.4927]),\n",
       " DenseVector([-1.145, -1.0656, -1.2913, -0.6611]),\n",
       " DenseVector([0.869, -1.0656, -0.574, -0.6611]),\n",
       " DenseVector([-1.145, 0.9337, -0.7334, 1.8335]),\n",
       " DenseVector([0.869, 0.9337, -0.8928, -0.6611]),\n",
       " DenseVector([0.869, -1.0656, -0.7334, 1.8335]),\n",
       " DenseVector([0.869, 0.9337, -0.7334, 1.8335]),\n",
       " DenseVector([-1.145, -1.0656, -0.9194, 0.1704]),\n",
       " DenseVector([0.869, 0.9337, -0.9194, 0.1704]),\n",
       " DenseVector([0.869, -1.0656, -0.9459, -0.2453]),\n",
       " DenseVector([0.869, 0.9337, -0.574, -0.6611]),\n",
       " DenseVector([0.869, -1.0656, -0.9194, 0.1704]),\n",
       " DenseVector([-1.145, 0.9337, -0.8131, -1.4927]),\n",
       " DenseVector([0.869, -1.0656, -0.9459, 0.7941]),\n",
       " DenseVector([0.869, -1.0656, -0.9459, 0.7941]),\n",
       " DenseVector([-1.145, 0.9337, -0.0426, 0.7941]),\n",
       " DenseVector([0.869, -1.0656, -0.8928, -0.6611]),\n",
       " DenseVector([0.869, -1.0656, -0.574, -1.4927]),\n",
       " DenseVector([-1.145, -1.0656, -1.371, -0.6611]),\n",
       " DenseVector([0.869, 0.9337, -1.2647, -1.2848]),\n",
       " DenseVector([-1.145, 0.9337, -0.9194, 0.1704]),\n",
       " DenseVector([-1.145, 0.9337, -0.4677, 1.4177]),\n",
       " DenseVector([0.869, 0.9337, -1.1053, -0.6611]),\n",
       " DenseVector([0.869, -1.0656, -1.2647, -1.2848]),\n",
       " DenseVector([-1.145, 0.9337, -0.0426, 0.7941]),\n",
       " DenseVector([-1.145, 0.9337, -0.0426, 0.7941]),\n",
       " DenseVector([-1.145, -1.0656, -0.4943, 0.2744]),\n",
       " DenseVector([0.869, -1.0656, -1.371, -0.6611]),\n",
       " DenseVector([0.869, 0.9337, -0.9194, 0.1704]),\n",
       " DenseVector([0.869, 0.9337, -0.574, -0.6611]),\n",
       " DenseVector([-1.145, -1.0656, -0.8928, -0.6611]),\n",
       " DenseVector([0.869, -1.0656, -0.4146, -0.2453]),\n",
       " DenseVector([0.869, -1.0656, -0.4943, 0.2744]),\n",
       " DenseVector([-1.145, 0.9337, -0.8928, -0.6611]),\n",
       " DenseVector([-1.145, 0.9337, -0.9194, 0.1704]),\n",
       " DenseVector([0.869, 0.9337, -0.8928, -0.6611]),\n",
       " DenseVector([-1.145, 0.9337, 0.3293, -0.6611]),\n",
       " DenseVector([0.869, -1.0656, -0.5208, -0.6611]),\n",
       " DenseVector([0.869, -1.0656, -0.4943, 0.2744]),\n",
       " DenseVector([-1.145, 0.9337, -0.4146, -0.2453]),\n",
       " DenseVector([0.869, 0.9337, -1.1053, -0.6611]),\n",
       " DenseVector([0.869, -1.0656, -0.4677, 1.4177]),\n",
       " DenseVector([-1.145, 0.9337, -0.5208, -0.6611]),\n",
       " DenseVector([0.869, 0.9337, -0.4146, -0.2453]),\n",
       " DenseVector([0.869, 0.9337, -0.4146, -0.2453]),\n",
       " DenseVector([0.869, -1.0656, -0.3083, -1.9084]),\n",
       " DenseVector([0.869, 0.9337, -0.1755, 0.1704]),\n",
       " DenseVector([-1.145, 0.9337, -0.4677, 1.4177]),\n",
       " DenseVector([0.869, -1.0656, -0.574, -0.6611]),\n",
       " DenseVector([0.869, -1.0656, -0.8928, -0.6611]),\n",
       " DenseVector([0.869, -1.0656, 0.3293, 0.7941]),\n",
       " DenseVector([0.869, -1.0656, 0.3293, 0.7941]),\n",
       " DenseVector([-1.145, -1.0656, 0.2231, 3.0808]),\n",
       " DenseVector([0.869, -1.0656, -0.9459, -1.2848]),\n",
       " DenseVector([-1.145, 0.9337, 0.2231, 3.0808]),\n",
       " DenseVector([0.869, -1.0656, -0.1755, 0.1704]),\n",
       " DenseVector([-1.145, 0.9337, 0.3293, -0.6611]),\n",
       " DenseVector([-1.145, 0.9337, 0.3293, 0.7941]),\n",
       " DenseVector([0.869, -1.0656, -0.2552, 0.1704]),\n",
       " DenseVector([-1.145, 0.9337, -0.3614, 0.7941]),\n",
       " DenseVector([0.869, 0.9337, -0.3083, -1.9084]),\n",
       " DenseVector([-1.145, 0.9337, 0.3293, -0.6611]),\n",
       " DenseVector([0.869, -1.0656, -0.0958, 0.7941]),\n",
       " DenseVector([0.869, 0.9337, -0.2552, 0.1704]),\n",
       " DenseVector([0.869, -1.0656, -0.5208, -0.6611]),\n",
       " DenseVector([0.869, -1.0656, -0.4677, 1.4177]),\n",
       " DenseVector([-1.145, -1.0656, -0.0958, 0.7941]),\n",
       " DenseVector([-1.145, 0.9337, -0.5208, -0.6611]),\n",
       " DenseVector([0.869, -1.0656, -0.8131, -1.2848]),\n",
       " DenseVector([0.869, -1.0656, -0.3083, -1.9084]),\n",
       " DenseVector([-1.145, 0.9337, -0.0692, 1.8335]),\n",
       " DenseVector([-1.145, 0.9337, -0.3614, -0.2453]),\n",
       " DenseVector([-1.145, 0.9337, 0.3293, -0.6611]),\n",
       " DenseVector([0.869, 0.9337, -0.5208, -0.6611]),\n",
       " DenseVector([0.869, 0.9337, -0.3083, -1.9084]),\n",
       " DenseVector([0.869, -1.0656, 0.1965, -0.6611]),\n",
       " DenseVector([-1.145, 0.9337, 0.3293, -0.6611]),\n",
       " DenseVector([-1.145, 0.9337, -0.3614, 0.7941]),\n",
       " DenseVector([0.869, 0.9337, 0.1965, -0.6611]),\n",
       " DenseVector([-1.145, 0.9337, -0.0692, 1.8335]),\n",
       " DenseVector([-1.145, 0.9337, 0.1699, 0.2744]),\n",
       " DenseVector([0.869, -1.0656, -0.1755, -0.2453]),\n",
       " DenseVector([0.869, -1.0656, 0.1699, 0.2744]),\n",
       " DenseVector([0.869, 0.9337, -0.4146, 0.7941]),\n",
       " DenseVector([0.869, 0.9337, -0.1755, -0.2453]),\n",
       " DenseVector([-1.145, 0.9337, 1.0998, -0.2453]),\n",
       " DenseVector([-1.145, 0.9337, 1.0998, -0.2453]),\n",
       " DenseVector([0.869, -1.0656, 0.2762, 0.5862]),\n",
       " DenseVector([0.869, -1.0656, -0.0692, 1.4177]),\n",
       " DenseVector([-1.145, 0.9337, 1.0998, -0.2453]),\n",
       " DenseVector([0.869, -1.0656, -0.2286, -2.0124]),\n",
       " DenseVector([0.869, -1.0656, 0.1699, 0.7941]),\n",
       " DenseVector([0.869, 0.9337, 0.2762, 0.5862]),\n",
       " DenseVector([-1.145, 0.9337, 0.1965, -0.2453]),\n",
       " DenseVector([0.869, -1.0656, 1.2858, 0.1704]),\n",
       " DenseVector([0.869, -1.0656, 1.2858, 0.1704]),\n",
       " DenseVector([-1.145, 0.9337, -0.0692, 1.8335]),\n",
       " DenseVector([0.869, -1.0656, -0.9459, -1.2848]),\n",
       " DenseVector([0.869, 0.9337, -0.2286, -2.0124]),\n",
       " DenseVector([0.869, -1.0656, -0.0426, 0.7941]),\n",
       " DenseVector([0.869, 0.9337, 1.2858, 0.1704]),\n",
       " DenseVector([-1.145, 0.9337, 1.0998, -0.2453]),\n",
       " DenseVector([-1.145, 0.9337, 1.0998, -0.2453]),\n",
       " DenseVector([-1.145, 0.9337, 0.1699, 0.2744]),\n",
       " DenseVector([-1.145, -1.0656, 0.1699, 0.7941]),\n",
       " DenseVector([0.869, -1.0656, 0.1699, 0.2744]),\n",
       " DenseVector([0.869, -1.0656, -0.2286, -0.2453]),\n",
       " DenseVector([-1.145, 0.9337, 0.8341, 1.8335]),\n",
       " DenseVector([0.869, -1.0656, 1.3921, 0.1704]),\n",
       " DenseVector([0.869, 0.9337, 1.3921, 0.1704]),\n",
       " DenseVector([0.869, -1.0656, 0.2762, 0.5862]),\n",
       " DenseVector([-1.145, 0.9337, 1.5249, 0.1704]),\n",
       " DenseVector([-1.145, -1.0656, -0.0692, 1.4177]),\n",
       " DenseVector([-1.145, 0.9337, 0.1965, -0.2453]),\n",
       " DenseVector([-1.145, 0.9337, 1.3389, -0.2453]),\n",
       " DenseVector([-1.145, 0.9337, 1.8969, -0.2453]),\n",
       " DenseVector([0.869, 0.9337, 0.2762, 0.5862]),\n",
       " DenseVector([-1.145, 0.9337, 1.5249, 0.1704]),\n",
       " DenseVector([0.869, -1.0656, -0.1755, -0.2453]),\n",
       " DenseVector([0.869, 0.9337, -0.2286, -0.2453]),\n",
       " DenseVector([0.869, -1.0656, 0.2762, 0.5862]),\n",
       " DenseVector([0.869, -1.0656, -0.2286, -2.0124]),\n",
       " DenseVector([0.869, -1.0656, -0.0692, 1.4177]),\n",
       " DenseVector([0.869, 0.9337, -0.2286, -2.0124]),\n",
       " DenseVector([-1.145, 0.9337, 1.4983, 0.1704]),\n",
       " DenseVector([0.869, -1.0656, 0.3028, 0.7941]),\n",
       " DenseVector([-1.145, 0.9337, 0.3293, -0.6611]),\n",
       " DenseVector([0.869, -1.0656, 0.1699, 0.7941]),\n",
       " DenseVector([0.869, -1.0656, -0.2286, -2.0124]),\n",
       " DenseVector([0.869, -1.0656, 1.0201, 1.002]),\n",
       " DenseVector([-1.145, 0.9337, 1.4983, 0.7941]),\n",
       " DenseVector([0.869, -1.0656, 0.4356, -0.2453]),\n",
       " DenseVector([0.869, -1.0656, -0.8397, -1.9084]),\n",
       " DenseVector([-1.145, 0.9337, 1.4983, 0.1704]),\n",
       " DenseVector([0.869, -1.0656, 1.5515, -0.0375]),\n",
       " DenseVector([0.869, -1.0656, 1.4983, 0.7941]),\n",
       " DenseVector([0.869, 0.9337, 0.1699, 0.7941]),\n",
       " DenseVector([0.869, 0.9337, 1.5515, -0.0375]),\n",
       " DenseVector([0.869, -1.0656, 1.4983, 0.3783]),\n",
       " DenseVector([-1.145, 0.9337, 2.5611, 0.1704]),\n",
       " DenseVector([-1.145, -1.0656, 0.4622, -1.8045]),\n",
       " DenseVector([0.869, -1.0656, 0.4622, -1.8045]),\n",
       " DenseVector([0.869, -1.0656, 0.8076, 0.7941]),\n",
       " DenseVector([-1.145, 0.9337, 1.0467, 0.7941]),\n",
       " DenseVector([0.869, -1.0656, 0.0637, -0.6611]),\n",
       " DenseVector([0.869, -1.0656, 0.2762, 0.5862]),\n",
       " DenseVector([0.869, -1.0656, 0.967, 0.7941]),\n",
       " DenseVector([0.869, -1.0656, 0.4622, -1.8045]),\n",
       " DenseVector([0.869, -1.0656, 0.5153, -1.5966]),\n",
       " DenseVector([-1.145, 0.9337, 0.5153, -1.5966]),\n",
       " DenseVector([0.869, 0.9337, 0.5153, -1.5966]),\n",
       " DenseVector([0.869, -1.0656, 2.0828, 0.5862]),\n",
       " DenseVector([0.869, -1.0656, 0.5153, -1.5966]),\n",
       " DenseVector([0.869, -1.0656, 1.9234, -0.7651]),\n",
       " DenseVector([-1.145, 0.9337, 2.747, 1.6256]),\n",
       " DenseVector([-1.145, 0.9337, 2.747, 1.6256]),\n",
       " DenseVector([0.869, -1.0656, 1.3655, -0.7651]),\n",
       " DenseVector([-1.145, 0.9337, 1.3655, -0.7651]),\n",
       " DenseVector([0.869, -1.0656, 1.9234, -0.7651]),\n",
       " DenseVector([-1.145, -1.0656, 4.2083, -0.2453]),\n",
       " DenseVector([0.869, -1.0656, 2.0828, 0.5862]),\n",
       " DenseVector([-1.145, 0.9337, 2.747, 1.6256]),\n",
       " DenseVector([0.869, -1.0656, 2.136, -1.2848]),\n",
       " DenseVector([-1.145, -1.0656, 2.0828, 0.5862]),\n",
       " DenseVector([-1.145, 0.9337, 2.136, -1.2848])]"
      ]
     },
     "execution_count": 37,
     "metadata": {},
     "output_type": "execute_result"
    }
   ],
   "source": [
    "csAuto = carrosDf.rdd.map(centerAndScale)\n",
    "csAuto.collect()"
   ]
  },
  {
   "cell_type": "code",
   "execution_count": 38,
   "metadata": {},
   "outputs": [
    {
     "name": "stdout",
     "output_type": "stream",
     "text": [
      "+--------------------+\n",
      "|            features|\n",
      "+--------------------+\n",
      "|[-1.1449709581789...|\n",
      "|[-1.1449709581789...|\n",
      "|[-1.1449709581789...|\n",
      "|[-1.1449709581789...|\n",
      "|[-1.1449709581789...|\n",
      "|[-1.1449709581789...|\n",
      "|[-1.1449709581789...|\n",
      "|[-1.1449709581789...|\n",
      "|[-1.1449709581789...|\n",
      "|[-1.1449709581789...|\n",
      "+--------------------+\n",
      "only showing top 10 rows\n",
      "\n"
     ]
    }
   ],
   "source": [
    "# Criando um Spark Dataframe\n",
    "autoRows = csAuto.map(lambda f:Row(features = f))\n",
    "autoDf = spSession.createDataFrame(autoRows)\n",
    "autoDf.select(\"features\").show(10)"
   ]
  },
  {
   "cell_type": "code",
   "execution_count": null,
   "metadata": {},
   "outputs": [],
   "source": [
    "# Importando o algoritmo K-Means para clusterização\n",
    "from pyspark.ml.clustering import KMeans\n",
    "kmeans = KMeans(k = 3, seed = 1)\n",
    "modelo = kmeans.fit(autoDf)\n",
    "previsoes = modelo.transform(autoDf)\n",
    "previsoes.show()"
   ]
  },
  {
   "cell_type": "code",
   "execution_count": null,
   "metadata": {},
   "outputs": [],
   "source": [
    "# Plot dos resultados\n",
    "import pandas as pd\n",
    "import matplotlib.pylab as plt\n",
    "%matplotlib inline"
   ]
  },
  {
   "cell_type": "code",
   "execution_count": null,
   "metadata": {},
   "outputs": [],
   "source": [
    "def unstripData(instr) :\n",
    "    return ( instr[\"prediction\"], instr[\"features\"][0], instr[\"features\"][1],instr[\"features\"][2],instr[\"features\"][3])"
   ]
  },
  {
   "cell_type": "code",
   "execution_count": null,
   "metadata": {},
   "outputs": [],
   "source": [
    "# Organizando os dados para o Plot\n",
    "unstripped = previsoes.rdd.map(unstripData)\n",
    "predList = unstripped.collect()\n",
    "predPd = pd.DataFrame(predList)"
   ]
  },
  {
   "cell_type": "code",
   "execution_count": null,
   "metadata": {},
   "outputs": [],
   "source": [
    "plt.cla()\n",
    "plt.scatter(predPd[3], predPd[4], c = predPd[0])"
   ]
  },
  {
   "cell_type": "markdown",
   "metadata": {
    "collapsed": true
   },
   "source": [
    "## Spark SQL e Arquivos JSON"
   ]
  },
  {
   "cell_type": "markdown",
   "metadata": {},
   "source": [
    "Neste site você pode validar a estrutura de um arquivo JSON: http://jsonlint.com/"
   ]
  },
  {
   "cell_type": "code",
   "execution_count": null,
   "metadata": {},
   "outputs": [],
   "source": [
    "# Importando o arquivo JSON\n",
    "funcDF = spSession.read.json(\"funcionarios.json\")"
   ]
  },
  {
   "cell_type": "code",
   "execution_count": null,
   "metadata": {},
   "outputs": [],
   "source": [
    "funcDF.show()"
   ]
  },
  {
   "cell_type": "code",
   "execution_count": null,
   "metadata": {},
   "outputs": [],
   "source": [
    "funcDF.printSchema()"
   ]
  },
  {
   "cell_type": "code",
   "execution_count": null,
   "metadata": {},
   "outputs": [],
   "source": [
    "type(funcDF)"
   ]
  },
  {
   "cell_type": "code",
   "execution_count": null,
   "metadata": {},
   "outputs": [],
   "source": [
    "# Operações com Dataframe Spark SQL - select()\n",
    "funcDF.select(\"nome\").show()"
   ]
  },
  {
   "cell_type": "code",
   "execution_count": null,
   "metadata": {},
   "outputs": [],
   "source": [
    "# Operações com Dataframe Spark SQL - filter()\n",
    "funcDF.filter(funcDF[\"idade\"] == 50).show()"
   ]
  },
  {
   "cell_type": "code",
   "execution_count": null,
   "metadata": {},
   "outputs": [],
   "source": [
    "# Operações com Dataframe Spark SQL - groupBy()\n",
    "funcDF.groupBy(\"sexo\").count().show()"
   ]
  },
  {
   "cell_type": "code",
   "execution_count": null,
   "metadata": {},
   "outputs": [],
   "source": [
    "# Operações com Dataframe Spark SQL - groupBy()\n",
    "funcDF.groupBy(\"deptid\").agg({\"salario\": \"avg\", \"idade\": \"max\"}).show()"
   ]
  },
  {
   "cell_type": "code",
   "execution_count": null,
   "metadata": {},
   "outputs": [],
   "source": [
    "# Registrando o dataframe como uma Temp Table\n",
    "funcDF.registerTempTable(\"funcTB\")"
   ]
  },
  {
   "cell_type": "code",
   "execution_count": null,
   "metadata": {},
   "outputs": [],
   "source": [
    "# Executando queries SQL ANSI\n",
    "spSession.sql(\"select deptid, max(idade), avg(salario) from funcTB group by deptid\").show()"
   ]
  },
  {
   "cell_type": "markdown",
   "metadata": {},
   "source": [
    "## Temp Tables"
   ]
  },
  {
   "cell_type": "code",
   "execution_count": null,
   "metadata": {},
   "outputs": [],
   "source": [
    "# Registrando o dataframe como temp Table\n",
    "funcDF.createOrReplaceTempView(\"funcTB\")"
   ]
  },
  {
   "cell_type": "code",
   "execution_count": null,
   "metadata": {},
   "outputs": [],
   "source": [
    "spSession.sql(\"select * from funcTB where salario = 6700\").show()"
   ]
  },
  {
   "cell_type": "code",
   "execution_count": null,
   "metadata": {},
   "outputs": [],
   "source": [
    "# Criando Temp Table\n",
    "sqlContext.registerDataFrameAsTable(funcDF, \"funcTB2\")"
   ]
  },
  {
   "cell_type": "code",
   "execution_count": null,
   "metadata": {},
   "outputs": [],
   "source": [
    "type(funcTB2)"
   ]
  },
  {
   "cell_type": "code",
   "execution_count": null,
   "metadata": {},
   "outputs": [],
   "source": [
    "# Persistindo a Temp Table \n",
    "funcTB3 = spSession.table(\"funcTB2\")"
   ]
  },
  {
   "cell_type": "code",
   "execution_count": null,
   "metadata": {},
   "outputs": [],
   "source": [
    "type(funcTB3)"
   ]
  },
  {
   "cell_type": "code",
   "execution_count": null,
   "metadata": {},
   "outputs": [],
   "source": [
    "# Comparando o Dataframe com a tabela temporária criada\n",
    "sorted(funcDF.collect()) == sorted(funcTB3.collect())"
   ]
  },
  {
   "cell_type": "code",
   "execution_count": null,
   "metadata": {},
   "outputs": [],
   "source": [
    "# Aplicando o filtro\n",
    "sqlContext.registerDataFrameAsTable(funcDF, \"funcTB2\")\n",
    "funcTB3 = spSession.table(\"funcTB2\")\n",
    "funcTB3.filter(\"idade = '42'\").first()"
   ]
  },
  {
   "cell_type": "code",
   "execution_count": null,
   "metadata": {},
   "outputs": [],
   "source": [
    "# Drop Temp Table\n",
    "sqlContext.dropTempTable(\"funcTB2\")"
   ]
  },
  {
   "cell_type": "markdown",
   "metadata": {},
   "source": [
    "## Banco de Dados Relacional"
   ]
  },
  {
   "cell_type": "markdown",
   "metadata": {},
   "source": [
    "Extraindo Dados do MySQL. Primeiro precisamos baixar o driver JDBC. Haverá um driver JDBC para cada banco de dados que você conectar (Oracle, SQL Server, etc...)"
   ]
  },
  {
   "cell_type": "markdown",
   "metadata": {},
   "source": [
    "1- Download do Driver JDBC para o MySQL: http://dev.mysql.com/downloads/connector/j/"
   ]
  },
  {
   "cell_type": "markdown",
   "metadata": {},
   "source": [
    "2- Baixar o arquivo .zip"
   ]
  },
  {
   "cell_type": "markdown",
   "metadata": {},
   "source": [
    "3- Descompactar o arquivo e copiar o arquivo mysql-connector-java-5.1.39-bin.jar para a pasta /opt/Spark/jars"
   ]
  },
  {
   "cell_type": "code",
   "execution_count": null,
   "metadata": {},
   "outputs": [],
   "source": [
    "from pyspark.sql import SQLContext\n",
    "sqlContext = SQLContext(sc)"
   ]
  },
  {
   "cell_type": "code",
   "execution_count": null,
   "metadata": {},
   "outputs": [],
   "source": [
    "mysql_df = spSession.read.format(\"jdbc\").options(\n",
    "    url = \"jdbc:mysql://localhost/carros\",\n",
    "    driver = \"com.mysql.jdbc.Driver\",\n",
    "    dbtable = \"carrostb\",\n",
    "    user = \"root\",\n",
    "    password = \"dsa1234\").load()"
   ]
  },
  {
   "cell_type": "code",
   "execution_count": null,
   "metadata": {},
   "outputs": [],
   "source": [
    "mysql_df.show()"
   ]
  },
  {
   "cell_type": "code",
   "execution_count": null,
   "metadata": {},
   "outputs": [],
   "source": [
    "dataframe_mysql.registerTempTable(\"carrostb\")"
   ]
  },
  {
   "cell_type": "code",
   "execution_count": null,
   "metadata": {},
   "outputs": [],
   "source": [
    "spSession.sql(\"select * from carrostb where hp = '68'\").show()"
   ]
  },
  {
   "cell_type": "markdown",
   "metadata": {
    "collapsed": true
   },
   "source": [
    "## Banco de Dados Não-Relacional"
   ]
  },
  {
   "cell_type": "markdown",
   "metadata": {},
   "source": [
    "https://spark-packages.org/package/Stratio/spark-mongodb"
   ]
  },
  {
   "cell_type": "markdown",
   "metadata": {},
   "source": [
    "$SPARK_HOME/bin/pyspark --packages com.stratio.datasource:spark-mongodb_2.11:0.12.0"
   ]
  },
  {
   "cell_type": "code",
   "execution_count": null,
   "metadata": {},
   "outputs": [],
   "source": [
    "from pyspark.sql import SparkSession\n",
    "spark = SparkSession.builder.getOrCreate()"
   ]
  },
  {
   "cell_type": "code",
   "execution_count": null,
   "metadata": {},
   "outputs": [],
   "source": [
    "# Cria tabela temporária a partir de dados do MongoDB\n",
    "spark.sql(\"CREATE TEMPORARY VIEW test_tb USING com.stratio.datasource.mongodb OPTIONS (host 'localhost:27017', database 'test_db', collection 'test_collection')\")"
   ]
  },
  {
   "cell_type": "code",
   "execution_count": null,
   "metadata": {},
   "outputs": [],
   "source": [
    "# select na tabela temporária criada\n",
    "spark.sql(\"SELECT * FROM test_tb\").collect()"
   ]
  },
  {
   "cell_type": "code",
   "execution_count": null,
   "metadata": {},
   "outputs": [],
   "source": [
    "# DataFrameReader\n",
    "df = spark.read.format('com.stratio.datasource.mongodb').options(host='localhost:27017', database = 'test_db', collection = 'test_collection').load()"
   ]
  },
  {
   "cell_type": "code",
   "execution_count": null,
   "metadata": {},
   "outputs": [],
   "source": [
    "df.show()"
   ]
  },
  {
   "cell_type": "code",
   "execution_count": null,
   "metadata": {},
   "outputs": [],
   "source": [
    "# DataFrameWriter\n",
    "df.select(\"titulo\").write.format(\"com.stratio.datasource.mongodb\").mode('overwrite').options(host = 'localhost:27017', database = 'test_db', collection = 'test_collection').save()"
   ]
  },
  {
   "cell_type": "code",
   "execution_count": null,
   "metadata": {},
   "outputs": [],
   "source": [
    "# DataFrameReader\n",
    "dfView = spark.read.format('com.stratio.datasource.mongodb').options(host='localhost:27017', database='test_db', collection='test_collection').load()"
   ]
  },
  {
   "cell_type": "code",
   "execution_count": null,
   "metadata": {},
   "outputs": [],
   "source": [
    "dfView.show()"
   ]
  },
  {
   "cell_type": "markdown",
   "metadata": {},
   "source": [
    "# Fim"
   ]
  }
 ],
 "metadata": {
  "anaconda-cloud": {},
  "kernelspec": {
   "display_name": "Python 3",
   "language": "python",
   "name": "python3"
  },
  "language_info": {
   "codemirror_mode": {
    "name": "ipython",
    "version": 3
   },
   "file_extension": ".py",
   "mimetype": "text/x-python",
   "name": "python",
   "nbconvert_exporter": "python",
   "pygments_lexer": "ipython3",
   "version": "3.8.2"
  }
 },
 "nbformat": 4,
 "nbformat_minor": 1
}
